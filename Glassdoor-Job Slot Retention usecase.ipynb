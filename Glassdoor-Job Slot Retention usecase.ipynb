{
 "cells": [
  {
   "cell_type": "markdown",
   "metadata": {},
   "source": [
    "## Glassdoor : Predicting Job Slot Product Retention"
   ]
  },
  {
   "cell_type": "code",
   "execution_count": 1,
   "metadata": {},
   "outputs": [],
   "source": [
    "# Data Cleaning\n",
    "import numpy as np\n",
    "import pandas as pd\n",
    "\n",
    "# Data Visualization\n",
    "import matplotlib.pyplot as plt\n",
    "%matplotlib inline\n",
    "import seaborn as sns\n",
    "sns.set_style('whitegrid')\n",
    "\n",
    "# importing copy module \n",
    "import copy \n",
    "\n",
    "# Removing Warnings\n",
    "import warnings\n",
    "warnings.filterwarnings('ignore')\n",
    "\n",
    "# for ML:\n",
    "from sklearn.model_selection import train_test_split\n",
    "from sklearn.pipeline import Pipeline\n",
    "from sklearn.compose import ColumnTransformer\n",
    "from sklearn.preprocessing import LabelEncoder\n",
    "from sklearn.preprocessing import OneHotEncoder\n",
    "from sklearn.impute import SimpleImputer\n",
    "from sklearn.ensemble import RandomForestClassifier\n",
    "from sklearn.metrics import accuracy_score\n",
    "from xgboost import XGBClassifier\n",
    "from sklearn.linear_model import LogisticRegression"
   ]
  },
  {
   "cell_type": "code",
   "execution_count": 2,
   "metadata": {},
   "outputs": [],
   "source": [
    "# Reading the data\n",
    "df_slot = pd.read_excel(\"DS_Intern_Assignment_-_2020.xlsx\", sheet_name=\"Ex 1 - Slot Performance Data\")\n",
    "df_loc = pd.read_excel(\"DS_Intern_Assignment_-_2020.xlsx\", sheet_name=\"Ex 2 - Location Data\")"
   ]
  },
  {
   "cell_type": "code",
   "execution_count": 3,
   "metadata": {},
   "outputs": [
    {
     "name": "stdout",
     "output_type": "stream",
     "text": [
      "Dimension for job slot data: (37757, 12)\n",
      "Dimension for location data: (11458, 4)\n"
     ]
    },
    {
     "data": {
      "text/html": [
       "<div>\n",
       "<style scoped>\n",
       "    .dataframe tbody tr th:only-of-type {\n",
       "        vertical-align: middle;\n",
       "    }\n",
       "\n",
       "    .dataframe tbody tr th {\n",
       "        vertical-align: top;\n",
       "    }\n",
       "\n",
       "    .dataframe thead th {\n",
       "        text-align: right;\n",
       "    }\n",
       "</style>\n",
       "<table border=\"1\" class=\"dataframe\">\n",
       "  <thead>\n",
       "    <tr style=\"text-align: right;\">\n",
       "      <th></th>\n",
       "      <th>Employer_ID</th>\n",
       "      <th>City_ID</th>\n",
       "      <th>Contract_ID</th>\n",
       "      <th>StartDate</th>\n",
       "      <th>EndDate</th>\n",
       "      <th>Renewal_Flag</th>\n",
       "      <th>Job_Slots</th>\n",
       "      <th>Total_Contract_Value</th>\n",
       "      <th>Applications</th>\n",
       "      <th>Apply_Start_Clicks</th>\n",
       "      <th>Click_Market_Value</th>\n",
       "      <th>Job_Listings</th>\n",
       "    </tr>\n",
       "  </thead>\n",
       "  <tbody>\n",
       "    <tr>\n",
       "      <td>0</td>\n",
       "      <td>4.277920e+06</td>\n",
       "      <td>9767</td>\n",
       "      <td>2423796</td>\n",
       "      <td>2017-10-30 00:00:00.000</td>\n",
       "      <td>2017-11-30 23:59:59.000</td>\n",
       "      <td>1</td>\n",
       "      <td>15</td>\n",
       "      <td>995</td>\n",
       "      <td>215</td>\n",
       "      <td>255</td>\n",
       "      <td>15484.40</td>\n",
       "      <td>25</td>\n",
       "    </tr>\n",
       "    <tr>\n",
       "      <td>1</td>\n",
       "      <td>2.372987e+06</td>\n",
       "      <td>8585</td>\n",
       "      <td>2074128</td>\n",
       "      <td>2017-06-29 00:00:00.000</td>\n",
       "      <td>2017-07-29 23:59:59.000</td>\n",
       "      <td>0</td>\n",
       "      <td>50</td>\n",
       "      <td>1495</td>\n",
       "      <td>55</td>\n",
       "      <td>70</td>\n",
       "      <td>1719.30</td>\n",
       "      <td>50</td>\n",
       "    </tr>\n",
       "    <tr>\n",
       "      <td>2</td>\n",
       "      <td>1.142693e+06</td>\n",
       "      <td>6665</td>\n",
       "      <td>1924740</td>\n",
       "      <td>2017-05-02 00:00:00.000</td>\n",
       "      <td>2017-06-02 23:59:59.000</td>\n",
       "      <td>0</td>\n",
       "      <td>15</td>\n",
       "      <td>495</td>\n",
       "      <td>45</td>\n",
       "      <td>95</td>\n",
       "      <td>1195.75</td>\n",
       "      <td>20</td>\n",
       "    </tr>\n",
       "    <tr>\n",
       "      <td>3</td>\n",
       "      <td>1.353893e+06</td>\n",
       "      <td>5165</td>\n",
       "      <td>1942512</td>\n",
       "      <td>2017-05-09 00:00:00.000</td>\n",
       "      <td>2017-06-06 23:59:59.000</td>\n",
       "      <td>0</td>\n",
       "      <td>15</td>\n",
       "      <td>995</td>\n",
       "      <td>155</td>\n",
       "      <td>175</td>\n",
       "      <td>1197.35</td>\n",
       "      <td>20</td>\n",
       "    </tr>\n",
       "    <tr>\n",
       "      <td>4</td>\n",
       "      <td>9.224267e+05</td>\n",
       "      <td>3882</td>\n",
       "      <td>1380984</td>\n",
       "      <td>2016-09-19 15:14:21.707</td>\n",
       "      <td>2016-10-20 15:14:20.707</td>\n",
       "      <td>1</td>\n",
       "      <td>15</td>\n",
       "      <td>745</td>\n",
       "      <td>150</td>\n",
       "      <td>185</td>\n",
       "      <td>8889.70</td>\n",
       "      <td>20</td>\n",
       "    </tr>\n",
       "  </tbody>\n",
       "</table>\n",
       "</div>"
      ],
      "text/plain": [
       "    Employer_ID  City_ID  Contract_ID               StartDate  \\\n",
       "0  4.277920e+06     9767      2423796 2017-10-30 00:00:00.000   \n",
       "1  2.372987e+06     8585      2074128 2017-06-29 00:00:00.000   \n",
       "2  1.142693e+06     6665      1924740 2017-05-02 00:00:00.000   \n",
       "3  1.353893e+06     5165      1942512 2017-05-09 00:00:00.000   \n",
       "4  9.224267e+05     3882      1380984 2016-09-19 15:14:21.707   \n",
       "\n",
       "                  EndDate  Renewal_Flag  Job_Slots  Total_Contract_Value  \\\n",
       "0 2017-11-30 23:59:59.000             1         15                   995   \n",
       "1 2017-07-29 23:59:59.000             0         50                  1495   \n",
       "2 2017-06-02 23:59:59.000             0         15                   495   \n",
       "3 2017-06-06 23:59:59.000             0         15                   995   \n",
       "4 2016-10-20 15:14:20.707             1         15                   745   \n",
       "\n",
       "   Applications  Apply_Start_Clicks  Click_Market_Value  Job_Listings  \n",
       "0           215                 255            15484.40            25  \n",
       "1            55                  70             1719.30            50  \n",
       "2            45                  95             1195.75            20  \n",
       "3           155                 175             1197.35            20  \n",
       "4           150                 185             8889.70            20  "
      ]
     },
     "execution_count": 3,
     "metadata": {},
     "output_type": "execute_result"
    }
   ],
   "source": [
    "print(\"Dimension for job slot data:\", df_slot.shape)\n",
    "print(\"Dimension for location data:\", df_loc.shape)\n",
    "\n",
    "df_slot.head(5)"
   ]
  },
  {
   "cell_type": "code",
   "execution_count": 4,
   "metadata": {},
   "outputs": [
    {
     "data": {
      "text/html": [
       "<div>\n",
       "<style scoped>\n",
       "    .dataframe tbody tr th:only-of-type {\n",
       "        vertical-align: middle;\n",
       "    }\n",
       "\n",
       "    .dataframe tbody tr th {\n",
       "        vertical-align: top;\n",
       "    }\n",
       "\n",
       "    .dataframe thead th {\n",
       "        text-align: right;\n",
       "    }\n",
       "</style>\n",
       "<table border=\"1\" class=\"dataframe\">\n",
       "  <thead>\n",
       "    <tr style=\"text-align: right;\">\n",
       "      <th></th>\n",
       "      <th>City_ID</th>\n",
       "      <th>City_Name</th>\n",
       "      <th>State_ID</th>\n",
       "      <th>State_Name</th>\n",
       "    </tr>\n",
       "  </thead>\n",
       "  <tbody>\n",
       "    <tr>\n",
       "      <td>0</td>\n",
       "      <td>1</td>\n",
       "      <td>Rockford</td>\n",
       "      <td>OH</td>\n",
       "      <td>Ohio</td>\n",
       "    </tr>\n",
       "    <tr>\n",
       "      <td>1</td>\n",
       "      <td>2</td>\n",
       "      <td>Sedgewickville</td>\n",
       "      <td>MO</td>\n",
       "      <td>Missouri</td>\n",
       "    </tr>\n",
       "    <tr>\n",
       "      <td>2</td>\n",
       "      <td>3</td>\n",
       "      <td>Whitehouse</td>\n",
       "      <td>OH</td>\n",
       "      <td>Ohio</td>\n",
       "    </tr>\n",
       "    <tr>\n",
       "      <td>3</td>\n",
       "      <td>4</td>\n",
       "      <td>Victor</td>\n",
       "      <td>IA</td>\n",
       "      <td>Iowa</td>\n",
       "    </tr>\n",
       "    <tr>\n",
       "      <td>4</td>\n",
       "      <td>5</td>\n",
       "      <td>Pacific Junction</td>\n",
       "      <td>IA</td>\n",
       "      <td>Iowa</td>\n",
       "    </tr>\n",
       "  </tbody>\n",
       "</table>\n",
       "</div>"
      ],
      "text/plain": [
       "   City_ID         City_Name State_ID State_Name\n",
       "0        1          Rockford       OH       Ohio\n",
       "1        2    Sedgewickville       MO   Missouri\n",
       "2        3        Whitehouse       OH       Ohio\n",
       "3        4            Victor       IA       Iowa\n",
       "4        5  Pacific Junction       IA       Iowa"
      ]
     },
     "execution_count": 4,
     "metadata": {},
     "output_type": "execute_result"
    }
   ],
   "source": [
    "df_loc.head(5)"
   ]
  },
  {
   "cell_type": "code",
   "execution_count": 5,
   "metadata": {},
   "outputs": [
    {
     "name": "stdout",
     "output_type": "stream",
     "text": [
      "Dimension for master data: (37757, 14)\n"
     ]
    },
    {
     "data": {
      "text/html": [
       "<div>\n",
       "<style scoped>\n",
       "    .dataframe tbody tr th:only-of-type {\n",
       "        vertical-align: middle;\n",
       "    }\n",
       "\n",
       "    .dataframe tbody tr th {\n",
       "        vertical-align: top;\n",
       "    }\n",
       "\n",
       "    .dataframe thead th {\n",
       "        text-align: right;\n",
       "    }\n",
       "</style>\n",
       "<table border=\"1\" class=\"dataframe\">\n",
       "  <thead>\n",
       "    <tr style=\"text-align: right;\">\n",
       "      <th></th>\n",
       "      <th>Employer_ID</th>\n",
       "      <th>City_ID</th>\n",
       "      <th>Contract_ID</th>\n",
       "      <th>StartDate</th>\n",
       "      <th>EndDate</th>\n",
       "      <th>Renewal_Flag</th>\n",
       "      <th>Job_Slots</th>\n",
       "      <th>Total_Contract_Value</th>\n",
       "      <th>Applications</th>\n",
       "      <th>Apply_Start_Clicks</th>\n",
       "      <th>Click_Market_Value</th>\n",
       "      <th>Job_Listings</th>\n",
       "      <th>City_Name</th>\n",
       "      <th>State_Name</th>\n",
       "    </tr>\n",
       "  </thead>\n",
       "  <tbody>\n",
       "    <tr>\n",
       "      <td>0</td>\n",
       "      <td>4277920</td>\n",
       "      <td>9767</td>\n",
       "      <td>2423796</td>\n",
       "      <td>2017-10-30</td>\n",
       "      <td>2017-11-30 23:59:59</td>\n",
       "      <td>1</td>\n",
       "      <td>15</td>\n",
       "      <td>995</td>\n",
       "      <td>215</td>\n",
       "      <td>255</td>\n",
       "      <td>15484.4</td>\n",
       "      <td>25</td>\n",
       "      <td>Kaser</td>\n",
       "      <td>New York</td>\n",
       "    </tr>\n",
       "    <tr>\n",
       "      <td>1</td>\n",
       "      <td>1747093</td>\n",
       "      <td>9767</td>\n",
       "      <td>2123400</td>\n",
       "      <td>2017-07-19</td>\n",
       "      <td>2017-08-18 23:59:59</td>\n",
       "      <td>1</td>\n",
       "      <td>15</td>\n",
       "      <td>1745</td>\n",
       "      <td>20</td>\n",
       "      <td>145</td>\n",
       "      <td>3131.2</td>\n",
       "      <td>0</td>\n",
       "      <td>Kaser</td>\n",
       "      <td>New York</td>\n",
       "    </tr>\n",
       "    <tr>\n",
       "      <td>2</td>\n",
       "      <td>2833226</td>\n",
       "      <td>9767</td>\n",
       "      <td>1895796</td>\n",
       "      <td>2017-04-22</td>\n",
       "      <td>2017-05-21 23:59:59</td>\n",
       "      <td>1</td>\n",
       "      <td>15</td>\n",
       "      <td>495</td>\n",
       "      <td>80</td>\n",
       "      <td>120</td>\n",
       "      <td>726.2</td>\n",
       "      <td>20</td>\n",
       "      <td>Kaser</td>\n",
       "      <td>New York</td>\n",
       "    </tr>\n",
       "    <tr>\n",
       "      <td>3</td>\n",
       "      <td>1827813</td>\n",
       "      <td>9767</td>\n",
       "      <td>1283400</td>\n",
       "      <td>2016-08-03</td>\n",
       "      <td>2016-09-02 23:59:59</td>\n",
       "      <td>1</td>\n",
       "      <td>15</td>\n",
       "      <td>495</td>\n",
       "      <td>20</td>\n",
       "      <td>45</td>\n",
       "      <td>1852.1</td>\n",
       "      <td>0</td>\n",
       "      <td>Kaser</td>\n",
       "      <td>New York</td>\n",
       "    </tr>\n",
       "    <tr>\n",
       "      <td>4</td>\n",
       "      <td>2234880</td>\n",
       "      <td>9767</td>\n",
       "      <td>2021376</td>\n",
       "      <td>2017-06-12</td>\n",
       "      <td>2017-07-11 23:59:59</td>\n",
       "      <td>1</td>\n",
       "      <td>15</td>\n",
       "      <td>745</td>\n",
       "      <td>85</td>\n",
       "      <td>95</td>\n",
       "      <td>2339.5</td>\n",
       "      <td>0</td>\n",
       "      <td>Kaser</td>\n",
       "      <td>New York</td>\n",
       "    </tr>\n",
       "  </tbody>\n",
       "</table>\n",
       "</div>"
      ],
      "text/plain": [
       "   Employer_ID  City_ID  Contract_ID  StartDate             EndDate  \\\n",
       "0      4277920     9767      2423796 2017-10-30 2017-11-30 23:59:59   \n",
       "1      1747093     9767      2123400 2017-07-19 2017-08-18 23:59:59   \n",
       "2      2833226     9767      1895796 2017-04-22 2017-05-21 23:59:59   \n",
       "3      1827813     9767      1283400 2016-08-03 2016-09-02 23:59:59   \n",
       "4      2234880     9767      2021376 2017-06-12 2017-07-11 23:59:59   \n",
       "\n",
       "   Renewal_Flag  Job_Slots  Total_Contract_Value  Applications  \\\n",
       "0             1         15                   995           215   \n",
       "1             1         15                  1745            20   \n",
       "2             1         15                   495            80   \n",
       "3             1         15                   495            20   \n",
       "4             1         15                   745            85   \n",
       "\n",
       "   Apply_Start_Clicks  Click_Market_Value  Job_Listings City_Name State_Name  \n",
       "0                 255             15484.4            25     Kaser   New York  \n",
       "1                 145              3131.2             0     Kaser   New York  \n",
       "2                 120               726.2            20     Kaser   New York  \n",
       "3                  45              1852.1             0     Kaser   New York  \n",
       "4                  95              2339.5             0     Kaser   New York  "
      ]
     },
     "execution_count": 5,
     "metadata": {},
     "output_type": "execute_result"
    }
   ],
   "source": [
    "# Joining both the dataframes by \"City_ID\"\n",
    "df_master = df_slot.merge(df_loc[[\"City_ID\",\"City_Name\",\"State_Name\"]], on = \"City_ID\")\n",
    "df_master[\"Employer_ID\"] = df_master[\"Employer_ID\"].astype(int)\n",
    "# df_master[\"EndDate\"] = df_master[\"EndDate\"].dt.date\n",
    "# df_master[\"StartDate\"] = df_master[\"StartDate\"].dt.date\n",
    "\n",
    "print(\"Dimension for master data:\", df_master.shape)\n",
    "df_master.head(5)"
   ]
  },
  {
   "cell_type": "code",
   "execution_count": 6,
   "metadata": {},
   "outputs": [],
   "source": [
    "def add_features(var):\n",
    "    df_master[var+\"_year\"] = df_master[var+\"Date\"].dt.year\n",
    "    df_master[var+\"_month\"] = df_master[var+\"Date\"].dt.month\n",
    "    df_master[var+\"_day\"] = df_master[var+\"Date\"].dt.day\n",
    "    return df_master"
   ]
  },
  {
   "cell_type": "code",
   "execution_count": 7,
   "metadata": {},
   "outputs": [],
   "source": [
    "df_master2 = add_features(\"Start\")\n",
    "df_master2 = add_features(\"End\")"
   ]
  },
  {
   "cell_type": "code",
   "execution_count": 8,
   "metadata": {},
   "outputs": [
    {
     "data": {
      "text/html": [
       "<div>\n",
       "<style scoped>\n",
       "    .dataframe tbody tr th:only-of-type {\n",
       "        vertical-align: middle;\n",
       "    }\n",
       "\n",
       "    .dataframe tbody tr th {\n",
       "        vertical-align: top;\n",
       "    }\n",
       "\n",
       "    .dataframe thead th {\n",
       "        text-align: right;\n",
       "    }\n",
       "</style>\n",
       "<table border=\"1\" class=\"dataframe\">\n",
       "  <thead>\n",
       "    <tr style=\"text-align: right;\">\n",
       "      <th></th>\n",
       "      <th>Employer_ID</th>\n",
       "      <th>City_ID</th>\n",
       "      <th>Contract_ID</th>\n",
       "      <th>StartDate</th>\n",
       "      <th>EndDate</th>\n",
       "      <th>Renewal_Flag</th>\n",
       "      <th>Job_Slots</th>\n",
       "      <th>Total_Contract_Value</th>\n",
       "      <th>Applications</th>\n",
       "      <th>Apply_Start_Clicks</th>\n",
       "      <th>Click_Market_Value</th>\n",
       "      <th>Job_Listings</th>\n",
       "      <th>City_Name</th>\n",
       "      <th>State_Name</th>\n",
       "      <th>Start_year</th>\n",
       "      <th>Start_month</th>\n",
       "      <th>Start_day</th>\n",
       "      <th>End_year</th>\n",
       "      <th>End_month</th>\n",
       "      <th>End_day</th>\n",
       "    </tr>\n",
       "  </thead>\n",
       "  <tbody>\n",
       "    <tr>\n",
       "      <td>0</td>\n",
       "      <td>4277920</td>\n",
       "      <td>9767</td>\n",
       "      <td>2423796</td>\n",
       "      <td>2017-10-30</td>\n",
       "      <td>2017-11-30 23:59:59</td>\n",
       "      <td>1</td>\n",
       "      <td>15</td>\n",
       "      <td>995</td>\n",
       "      <td>215</td>\n",
       "      <td>255</td>\n",
       "      <td>15484.4</td>\n",
       "      <td>25</td>\n",
       "      <td>Kaser</td>\n",
       "      <td>New York</td>\n",
       "      <td>2017</td>\n",
       "      <td>10</td>\n",
       "      <td>30</td>\n",
       "      <td>2017</td>\n",
       "      <td>11</td>\n",
       "      <td>30</td>\n",
       "    </tr>\n",
       "    <tr>\n",
       "      <td>1</td>\n",
       "      <td>1747093</td>\n",
       "      <td>9767</td>\n",
       "      <td>2123400</td>\n",
       "      <td>2017-07-19</td>\n",
       "      <td>2017-08-18 23:59:59</td>\n",
       "      <td>1</td>\n",
       "      <td>15</td>\n",
       "      <td>1745</td>\n",
       "      <td>20</td>\n",
       "      <td>145</td>\n",
       "      <td>3131.2</td>\n",
       "      <td>0</td>\n",
       "      <td>Kaser</td>\n",
       "      <td>New York</td>\n",
       "      <td>2017</td>\n",
       "      <td>7</td>\n",
       "      <td>19</td>\n",
       "      <td>2017</td>\n",
       "      <td>8</td>\n",
       "      <td>18</td>\n",
       "    </tr>\n",
       "    <tr>\n",
       "      <td>2</td>\n",
       "      <td>2833226</td>\n",
       "      <td>9767</td>\n",
       "      <td>1895796</td>\n",
       "      <td>2017-04-22</td>\n",
       "      <td>2017-05-21 23:59:59</td>\n",
       "      <td>1</td>\n",
       "      <td>15</td>\n",
       "      <td>495</td>\n",
       "      <td>80</td>\n",
       "      <td>120</td>\n",
       "      <td>726.2</td>\n",
       "      <td>20</td>\n",
       "      <td>Kaser</td>\n",
       "      <td>New York</td>\n",
       "      <td>2017</td>\n",
       "      <td>4</td>\n",
       "      <td>22</td>\n",
       "      <td>2017</td>\n",
       "      <td>5</td>\n",
       "      <td>21</td>\n",
       "    </tr>\n",
       "    <tr>\n",
       "      <td>3</td>\n",
       "      <td>1827813</td>\n",
       "      <td>9767</td>\n",
       "      <td>1283400</td>\n",
       "      <td>2016-08-03</td>\n",
       "      <td>2016-09-02 23:59:59</td>\n",
       "      <td>1</td>\n",
       "      <td>15</td>\n",
       "      <td>495</td>\n",
       "      <td>20</td>\n",
       "      <td>45</td>\n",
       "      <td>1852.1</td>\n",
       "      <td>0</td>\n",
       "      <td>Kaser</td>\n",
       "      <td>New York</td>\n",
       "      <td>2016</td>\n",
       "      <td>8</td>\n",
       "      <td>3</td>\n",
       "      <td>2016</td>\n",
       "      <td>9</td>\n",
       "      <td>2</td>\n",
       "    </tr>\n",
       "    <tr>\n",
       "      <td>4</td>\n",
       "      <td>2234880</td>\n",
       "      <td>9767</td>\n",
       "      <td>2021376</td>\n",
       "      <td>2017-06-12</td>\n",
       "      <td>2017-07-11 23:59:59</td>\n",
       "      <td>1</td>\n",
       "      <td>15</td>\n",
       "      <td>745</td>\n",
       "      <td>85</td>\n",
       "      <td>95</td>\n",
       "      <td>2339.5</td>\n",
       "      <td>0</td>\n",
       "      <td>Kaser</td>\n",
       "      <td>New York</td>\n",
       "      <td>2017</td>\n",
       "      <td>6</td>\n",
       "      <td>12</td>\n",
       "      <td>2017</td>\n",
       "      <td>7</td>\n",
       "      <td>11</td>\n",
       "    </tr>\n",
       "  </tbody>\n",
       "</table>\n",
       "</div>"
      ],
      "text/plain": [
       "   Employer_ID  City_ID  Contract_ID  StartDate             EndDate  \\\n",
       "0      4277920     9767      2423796 2017-10-30 2017-11-30 23:59:59   \n",
       "1      1747093     9767      2123400 2017-07-19 2017-08-18 23:59:59   \n",
       "2      2833226     9767      1895796 2017-04-22 2017-05-21 23:59:59   \n",
       "3      1827813     9767      1283400 2016-08-03 2016-09-02 23:59:59   \n",
       "4      2234880     9767      2021376 2017-06-12 2017-07-11 23:59:59   \n",
       "\n",
       "   Renewal_Flag  Job_Slots  Total_Contract_Value  Applications  \\\n",
       "0             1         15                   995           215   \n",
       "1             1         15                  1745            20   \n",
       "2             1         15                   495            80   \n",
       "3             1         15                   495            20   \n",
       "4             1         15                   745            85   \n",
       "\n",
       "   Apply_Start_Clicks  Click_Market_Value  Job_Listings City_Name State_Name  \\\n",
       "0                 255             15484.4            25     Kaser   New York   \n",
       "1                 145              3131.2             0     Kaser   New York   \n",
       "2                 120               726.2            20     Kaser   New York   \n",
       "3                  45              1852.1             0     Kaser   New York   \n",
       "4                  95              2339.5             0     Kaser   New York   \n",
       "\n",
       "   Start_year  Start_month  Start_day  End_year  End_month  End_day  \n",
       "0        2017           10         30      2017         11       30  \n",
       "1        2017            7         19      2017          8       18  \n",
       "2        2017            4         22      2017          5       21  \n",
       "3        2016            8          3      2016          9        2  \n",
       "4        2017            6         12      2017          7       11  "
      ]
     },
     "execution_count": 8,
     "metadata": {},
     "output_type": "execute_result"
    }
   ],
   "source": [
    "df_master2.head()"
   ]
  },
  {
   "cell_type": "markdown",
   "metadata": {},
   "source": [
    "### PART A:  Write SQL queries to answer the following questions\n",
    "\n",
    "[ https://github.com/birajparikh16/Glassdoor-Predicting-Job-Slot-Product-Retention/blob/master/mysql_queries.txt ]\n",
    "\n",
    "Please refer the above link for mysql queries."
   ]
  },
  {
   "cell_type": "markdown",
   "metadata": {},
   "source": [
    "### PART B:  Metric Design and Exploratory Data Analysis"
   ]
  },
  {
   "cell_type": "code",
   "execution_count": 9,
   "metadata": {},
   "outputs": [
    {
     "data": {
      "image/png": "[encoded data removed]",
      "text/plain": [
       "<Figure size 432x288 with 1 Axes>"
      ]
     },
     "metadata": {
      "needs_background": "light"
     },
     "output_type": "display_data"
    }
   ],
   "source": [
    "# Which state has the highest number of applications ? ===> Texas\n",
    "states_apps = {}\n",
    "for i in range(len(df_master2[\"State_Name\"])):\n",
    "    if(df_master2[\"State_Name\"][i] not in states_apps):\n",
    "        states_apps[df_master2[\"State_Name\"][i]] = df_master2[\"Applications\"][i]\n",
    "    else:\n",
    "        states_apps[df_master2[\"State_Name\"][i]] += df_master2[\"Applications\"][i]\n",
    "\n",
    "plt.bar(range(len(states_apps)), list(states_apps.values()), align='center', facecolor = \"Green\")\n",
    "plt.xticks(range(len(states_apps)), list(states_apps.keys()))\n",
    "plt.title(\"Number of Applications across State\")\n",
    "plt.ylabel(\"Total Applications\")\n",
    "plt.xlabel(\"States\")\n",
    "plt.xticks(rotation=45);"
   ]
  },
  {
   "cell_type": "code",
   "execution_count": 10,
   "metadata": {},
   "outputs": [
    {
     "data": {
      "image/png": "[encoded data removed]",
      "text/plain": [
       "<Figure size 432x288 with 1 Axes>"
      ]
     },
     "metadata": {
      "needs_background": "light"
     },
     "output_type": "display_data"
    }
   ],
   "source": [
    "# Which state has the most number of renewals ? ===> pennsylvania\n",
    "states_ren = {}\n",
    "for i in range(len(df_master2[\"State_Name\"])):\n",
    "    if(df_master2[\"State_Name\"][i] not in states_ren):\n",
    "        states_ren[df_master2[\"State_Name\"][i]] = df_master2[\"Renewal_Flag\"][i]\n",
    "    else:\n",
    "        states_ren[df_master2[\"State_Name\"][i]] += df_master2[\"Renewal_Flag\"][i]\n",
    "\n",
    "plt.bar(range(len(states_ren)), list(states_ren.values()), align='center', facecolor = \"violet\")\n",
    "plt.xticks(range(len(states_ren)), list(states_ren.keys()))\n",
    "plt.title(\"States with most number of renewals\")\n",
    "plt.ylabel(\"Renewals\")\n",
    "plt.xlabel(\"States\")\n",
    "plt.xticks(rotation=45);"
   ]
  },
  {
   "cell_type": "code",
   "execution_count": 11,
   "metadata": {},
   "outputs": [
    {
     "data": {
      "image/png": "[encoded data removed]",
      "text/plain": [
       "<Figure size 432x288 with 1 Axes>"
      ]
     },
     "metadata": {
      "needs_background": "light"
     },
     "output_type": "display_data"
    }
   ],
   "source": [
    "# Which state has the highest number of Job listings ? ===> pennsylvania\n",
    "states_jobs = {}\n",
    "for i in range(len(df_master2[\"State_Name\"])):\n",
    "    if(df_master2[\"State_Name\"][i] not in states_jobs):\n",
    "        states_jobs[df_master2[\"State_Name\"][i]] = df_master2[\"Job_Listings\"][i]\n",
    "    else:\n",
    "        states_jobs[df_master2[\"State_Name\"][i]] += df_master2[\"Job_Listings\"][i]\n",
    "\n",
    "plt.bar(range(len(states_jobs)), list(states_jobs.values()), align='center')\n",
    "plt.xticks(range(len(states_jobs)), list(states_jobs.keys()))\n",
    "plt.title(\"States with Total Number of Job Listings\")\n",
    "plt.ylabel(\"Total Job Listings\")\n",
    "plt.xlabel(\"States\")\n",
    "plt.xticks(rotation=45);"
   ]
  },
  {
   "cell_type": "code",
   "execution_count": 12,
   "metadata": {},
   "outputs": [
    {
     "data": {
      "image/png": "[encoded data removed]",
      "text/plain": [
       "<Figure size 504x288 with 1 Axes>"
      ]
     },
     "metadata": {
      "needs_background": "light"
     },
     "output_type": "display_data"
    }
   ],
   "source": [
    "# Which city has the most number of renewals ? ===> riverside\n",
    "city_ren = df_master2.groupby(\"City_Name\").agg({\"Renewal_Flag\" : 'count'}).sort_values(by='Renewal_Flag',ascending=False).reset_index()[:10]\n",
    "# print(city_ren)\n",
    "city_ren.set_index('City_Name',inplace=True)\n",
    "city_ren.plot.bar(width=0.9,cmap='summer')\n",
    "fig=plt.gcf()\n",
    "fig.set_size_inches(7,4)\n",
    "plt.title('Top Cities having renewals')\n",
    "plt.xticks(rotation=45)\n",
    "plt.show();"
   ]
  },
  {
   "cell_type": "code",
   "execution_count": 13,
   "metadata": {},
   "outputs": [
    {
     "name": "stdout",
     "output_type": "stream",
     "text": [
      "The number of employers having multiple renewals:  4684\n"
     ]
    }
   ],
   "source": [
    "# How many employers has multiple renewals ?\n",
    "emp_ren = df_master2.groupby(\"Employer_ID\").agg({\"Renewal_Flag\" : sum}).sort_values(by='Renewal_Flag',ascending=False)\n",
    "emp_ren = emp_ren[emp_ren.Renewal_Flag > 1]\n",
    "print(\"The number of employers having multiple renewals: \", len(emp_ren))"
   ]
  },
  {
   "cell_type": "code",
   "execution_count": 14,
   "metadata": {},
   "outputs": [
    {
     "data": {
      "image/png": "[encoded data removed]",
      "text/plain": [
       "<Figure size 504x288 with 1 Axes>"
      ]
     },
     "metadata": {
      "needs_background": "light"
     },
     "output_type": "display_data"
    }
   ],
   "source": [
    "# Which month has the highest number of renewals ? ===> 10 (October)\n",
    "mon_ren = df_master2.groupby(\"Start_month\").agg({\"Renewal_Flag\" : sum}).sort_values(by='Renewal_Flag',ascending=False).reset_index()[:10]\n",
    "mon_ren.set_index('Start_month',inplace=True)\n",
    "mon_ren.plot.bar(width=0.9,cmap='magma')\n",
    "fig=plt.gcf()\n",
    "fig.set_size_inches(7,4)\n",
    "plt.title('Month with highest no of renewals')\n",
    "plt.xticks(rotation=360)\n",
    "plt.show();"
   ]
  },
  {
   "cell_type": "code",
   "execution_count": 15,
   "metadata": {},
   "outputs": [
    {
     "data": {
      "text/plain": [
       "15    35705\n",
       "50     2052\n",
       "Name: Job_Slots, dtype: int64"
      ]
     },
     "execution_count": 15,
     "metadata": {},
     "output_type": "execute_result"
    }
   ],
   "source": [
    "df_master2[\"Job_Slots\"].value_counts()"
   ]
  },
  {
   "cell_type": "code",
   "execution_count": 16,
   "metadata": {},
   "outputs": [
    {
     "data": {
      "text/plain": [
       "11458"
      ]
     },
     "execution_count": 16,
     "metadata": {},
     "output_type": "execute_result"
    }
   ],
   "source": [
    "df_master2[\"Employer_ID\"].nunique()"
   ]
  },
  {
   "cell_type": "code",
   "execution_count": 17,
   "metadata": {},
   "outputs": [
    {
     "data": {
      "text/html": [
       "<div>\n",
       "<style scoped>\n",
       "    .dataframe tbody tr th:only-of-type {\n",
       "        vertical-align: middle;\n",
       "    }\n",
       "\n",
       "    .dataframe tbody tr th {\n",
       "        vertical-align: top;\n",
       "    }\n",
       "\n",
       "    .dataframe thead th {\n",
       "        text-align: right;\n",
       "    }\n",
       "</style>\n",
       "<table border=\"1\" class=\"dataframe\">\n",
       "  <thead>\n",
       "    <tr style=\"text-align: right;\">\n",
       "      <th></th>\n",
       "      <th>State_Name</th>\n",
       "      <th>Applications</th>\n",
       "      <th>Job_Listings</th>\n",
       "    </tr>\n",
       "  </thead>\n",
       "  <tbody>\n",
       "    <tr>\n",
       "      <td>0</td>\n",
       "      <td>California</td>\n",
       "      <td>246005</td>\n",
       "      <td>18075</td>\n",
       "    </tr>\n",
       "    <tr>\n",
       "      <td>1</td>\n",
       "      <td>Illinois</td>\n",
       "      <td>207325</td>\n",
       "      <td>15750</td>\n",
       "    </tr>\n",
       "    <tr>\n",
       "      <td>2</td>\n",
       "      <td>Iowa</td>\n",
       "      <td>155525</td>\n",
       "      <td>12190</td>\n",
       "    </tr>\n",
       "    <tr>\n",
       "      <td>3</td>\n",
       "      <td>Missouri</td>\n",
       "      <td>158670</td>\n",
       "      <td>11890</td>\n",
       "    </tr>\n",
       "    <tr>\n",
       "      <td>4</td>\n",
       "      <td>New York</td>\n",
       "      <td>164580</td>\n",
       "      <td>13115</td>\n",
       "    </tr>\n",
       "    <tr>\n",
       "      <td>5</td>\n",
       "      <td>Ohio</td>\n",
       "      <td>181640</td>\n",
       "      <td>13325</td>\n",
       "    </tr>\n",
       "    <tr>\n",
       "      <td>6</td>\n",
       "      <td>Oregon</td>\n",
       "      <td>53975</td>\n",
       "      <td>4305</td>\n",
       "    </tr>\n",
       "    <tr>\n",
       "      <td>7</td>\n",
       "      <td>Pennsylvania</td>\n",
       "      <td>253865</td>\n",
       "      <td>20220</td>\n",
       "    </tr>\n",
       "    <tr>\n",
       "      <td>8</td>\n",
       "      <td>Texas</td>\n",
       "      <td>272710</td>\n",
       "      <td>19905</td>\n",
       "    </tr>\n",
       "    <tr>\n",
       "      <td>9</td>\n",
       "      <td>Washington</td>\n",
       "      <td>95255</td>\n",
       "      <td>7175</td>\n",
       "    </tr>\n",
       "  </tbody>\n",
       "</table>\n",
       "</div>"
      ],
      "text/plain": [
       "     State_Name  Applications  Job_Listings\n",
       "0    California        246005         18075\n",
       "1      Illinois        207325         15750\n",
       "2          Iowa        155525         12190\n",
       "3      Missouri        158670         11890\n",
       "4      New York        164580         13115\n",
       "5          Ohio        181640         13325\n",
       "6        Oregon         53975          4305\n",
       "7  Pennsylvania        253865         20220\n",
       "8         Texas        272710         19905\n",
       "9    Washington         95255          7175"
      ]
     },
     "execution_count": 17,
     "metadata": {},
     "output_type": "execute_result"
    }
   ],
   "source": [
    "df_master2.groupby([\"State_Name\"]).agg({\"Applications\": 'sum', \"Job_Listings\": 'sum'}).reset_index()"
   ]
  },
  {
   "cell_type": "code",
   "execution_count": 18,
   "metadata": {},
   "outputs": [
    {
     "data": {
      "image/png": "[encoded data removed]",
      "text/plain": [
       "<Figure size 432.125x360 with 1 Axes>"
      ]
     },
     "metadata": {
      "needs_background": "light"
     },
     "output_type": "display_data"
    }
   ],
   "source": [
    "# Distribution of **job slots** vs **Renewal Flag** ?\n",
    "ax = sns.factorplot('Job_Slots',data=df_master2,kind='count',hue=\"Renewal_Flag\")\n",
    "ax.fig.suptitle('Distribution of Job slots vs Renewal Flag');"
   ]
  },
  {
   "cell_type": "markdown",
   "metadata": {},
   "source": [
    "As seen from the above Bar graph that the variable \"Job Slot\" does have an effect on the response variable \"Renewal Flag\".\n",
    "But intuitively, selecting job slot 15 doesn't mean that the employer is going to renew the subscription. \n",
    "Most start-up companies prefer job slot 15 as they require only few team members thus it is seen that distribution of job slot 15 is higher than job slot 50."
   ]
  },
  {
   "cell_type": "code",
   "execution_count": 19,
   "metadata": {},
   "outputs": [
    {
     "data": {
      "image/png": "[encoded data removed]",
      "text/plain": [
       "<Figure size 648x216 with 3 Axes>"
      ]
     },
     "metadata": {},
     "output_type": "display_data"
    }
   ],
   "source": [
    "# Distribution of Total contract value vs Renewal Flag\n",
    "\n",
    "df = df_master2.groupby([\"Start_year\",\"Renewal_Flag\"]).agg({\"Total_Contract_Value\" : sum})\\\n",
    "              .sort_values(by='Total_Contract_Value',ascending=False).reset_index()\n",
    "#df.head()\n",
    "\n",
    "def pie(v, l, color=None):\n",
    "    plt.pie(v, labels=l.values, explode=explode, autopct='%1.1f%%', shadow=True, startangle=140)\n",
    "    \n",
    "explode = (0.1, 0)\n",
    "g = sns.FacetGrid(df, col=\"Start_year\")\n",
    "g.map(pie, \"Total_Contract_Value\", \"Renewal_Flag\")\n",
    "#g.fig.suptitle('Distribution of Total_Contract_Value vs Renewal Flag');\n",
    "\n",
    "\n",
    "plt.show();"
   ]
  },
  {
   "cell_type": "markdown",
   "metadata": {},
   "source": [
    "From the above pie chart, it is clear that the variable \"Total_contract_value\" is important to consider for analysis of the use-case. The distribution of subscription renewal is much more in the years 2016 and 2017 whereas in the 2018 year the distribution of subscription renewal is almost equal may be because of any other factor like low economy growth in the country."
   ]
  },
  {
   "cell_type": "code",
   "execution_count": 20,
   "metadata": {},
   "outputs": [
    {
     "data": {
      "image/png": "[encoded data removed]",
      "text/plain": [
       "<Figure size 432.125x360 with 1 Axes>"
      ]
     },
     "metadata": {},
     "output_type": "display_data"
    }
   ],
   "source": [
    "# Distribution of Click_Market_Value vs Renewal Flag\n",
    "df2 = df_master2.groupby([\"Start_year\",\"Renewal_Flag\"]).agg({\"Click_Market_Value\" : sum})\\\n",
    "              .sort_values(by='Click_Market_Value',ascending=False).reset_index()\n",
    "\n",
    "with sns.axes_style(style='ticks'):\n",
    "    g = sns.factorplot(\"Start_year\", \"Click_Market_Value\", \"Renewal_Flag\", data=df2, kind=\"bar\")\n",
    "    g.set_axis_labels(\"Start_year\", \"Click_Market_Value\");"
   ]
  },
  {
   "cell_type": "markdown",
   "metadata": {},
   "source": [
    "The variable \"Click Market Value\" too seem important. As the click market value increase the chances of subscription renewal also increase. So, it make sense to include the \"Click Market Value\" variable in the machine learning model. "
   ]
  },
  {
   "cell_type": "code",
   "execution_count": 21,
   "metadata": {},
   "outputs": [],
   "source": [
    "df_master3 = copy.deepcopy(df_master2)"
   ]
  },
  {
   "cell_type": "code",
   "execution_count": 22,
   "metadata": {},
   "outputs": [],
   "source": [
    "df_master3.drop(columns = [\"Employer_ID\", \"Contract_ID\", \"StartDate\", \"EndDate\", \"City_Name\", \"State_Name\"],inplace=True)"
   ]
  },
  {
   "cell_type": "code",
   "execution_count": 23,
   "metadata": {},
   "outputs": [
    {
     "data": {
      "text/html": [
       "<div>\n",
       "<style scoped>\n",
       "    .dataframe tbody tr th:only-of-type {\n",
       "        vertical-align: middle;\n",
       "    }\n",
       "\n",
       "    .dataframe tbody tr th {\n",
       "        vertical-align: top;\n",
       "    }\n",
       "\n",
       "    .dataframe thead th {\n",
       "        text-align: right;\n",
       "    }\n",
       "</style>\n",
       "<table border=\"1\" class=\"dataframe\">\n",
       "  <thead>\n",
       "    <tr style=\"text-align: right;\">\n",
       "      <th></th>\n",
       "      <th>City_ID</th>\n",
       "      <th>Renewal_Flag</th>\n",
       "      <th>Job_Slots</th>\n",
       "      <th>Total_Contract_Value</th>\n",
       "      <th>Applications</th>\n",
       "      <th>Apply_Start_Clicks</th>\n",
       "      <th>Click_Market_Value</th>\n",
       "      <th>Job_Listings</th>\n",
       "      <th>Start_year</th>\n",
       "      <th>Start_month</th>\n",
       "      <th>Start_day</th>\n",
       "      <th>End_year</th>\n",
       "      <th>End_month</th>\n",
       "      <th>End_day</th>\n",
       "    </tr>\n",
       "  </thead>\n",
       "  <tbody>\n",
       "    <tr>\n",
       "      <td>0</td>\n",
       "      <td>9767</td>\n",
       "      <td>1</td>\n",
       "      <td>15</td>\n",
       "      <td>995</td>\n",
       "      <td>215</td>\n",
       "      <td>255</td>\n",
       "      <td>15484.4</td>\n",
       "      <td>25</td>\n",
       "      <td>2017</td>\n",
       "      <td>10</td>\n",
       "      <td>30</td>\n",
       "      <td>2017</td>\n",
       "      <td>11</td>\n",
       "      <td>30</td>\n",
       "    </tr>\n",
       "    <tr>\n",
       "      <td>1</td>\n",
       "      <td>9767</td>\n",
       "      <td>1</td>\n",
       "      <td>15</td>\n",
       "      <td>1745</td>\n",
       "      <td>20</td>\n",
       "      <td>145</td>\n",
       "      <td>3131.2</td>\n",
       "      <td>0</td>\n",
       "      <td>2017</td>\n",
       "      <td>7</td>\n",
       "      <td>19</td>\n",
       "      <td>2017</td>\n",
       "      <td>8</td>\n",
       "      <td>18</td>\n",
       "    </tr>\n",
       "    <tr>\n",
       "      <td>2</td>\n",
       "      <td>9767</td>\n",
       "      <td>1</td>\n",
       "      <td>15</td>\n",
       "      <td>495</td>\n",
       "      <td>80</td>\n",
       "      <td>120</td>\n",
       "      <td>726.2</td>\n",
       "      <td>20</td>\n",
       "      <td>2017</td>\n",
       "      <td>4</td>\n",
       "      <td>22</td>\n",
       "      <td>2017</td>\n",
       "      <td>5</td>\n",
       "      <td>21</td>\n",
       "    </tr>\n",
       "    <tr>\n",
       "      <td>3</td>\n",
       "      <td>9767</td>\n",
       "      <td>1</td>\n",
       "      <td>15</td>\n",
       "      <td>495</td>\n",
       "      <td>20</td>\n",
       "      <td>45</td>\n",
       "      <td>1852.1</td>\n",
       "      <td>0</td>\n",
       "      <td>2016</td>\n",
       "      <td>8</td>\n",
       "      <td>3</td>\n",
       "      <td>2016</td>\n",
       "      <td>9</td>\n",
       "      <td>2</td>\n",
       "    </tr>\n",
       "    <tr>\n",
       "      <td>4</td>\n",
       "      <td>9767</td>\n",
       "      <td>1</td>\n",
       "      <td>15</td>\n",
       "      <td>745</td>\n",
       "      <td>85</td>\n",
       "      <td>95</td>\n",
       "      <td>2339.5</td>\n",
       "      <td>0</td>\n",
       "      <td>2017</td>\n",
       "      <td>6</td>\n",
       "      <td>12</td>\n",
       "      <td>2017</td>\n",
       "      <td>7</td>\n",
       "      <td>11</td>\n",
       "    </tr>\n",
       "  </tbody>\n",
       "</table>\n",
       "</div>"
      ],
      "text/plain": [
       "   City_ID  Renewal_Flag  Job_Slots  Total_Contract_Value  Applications  \\\n",
       "0     9767             1         15                   995           215   \n",
       "1     9767             1         15                  1745            20   \n",
       "2     9767             1         15                   495            80   \n",
       "3     9767             1         15                   495            20   \n",
       "4     9767             1         15                   745            85   \n",
       "\n",
       "   Apply_Start_Clicks  Click_Market_Value  Job_Listings  Start_year  \\\n",
       "0                 255             15484.4            25        2017   \n",
       "1                 145              3131.2             0        2017   \n",
       "2                 120               726.2            20        2017   \n",
       "3                  45              1852.1             0        2016   \n",
       "4                  95              2339.5             0        2017   \n",
       "\n",
       "   Start_month  Start_day  End_year  End_month  End_day  \n",
       "0           10         30      2017         11       30  \n",
       "1            7         19      2017          8       18  \n",
       "2            4         22      2017          5       21  \n",
       "3            8          3      2016          9        2  \n",
       "4            6         12      2017          7       11  "
      ]
     },
     "execution_count": 23,
     "metadata": {},
     "output_type": "execute_result"
    }
   ],
   "source": [
    "df_master3.head()"
   ]
  },
  {
   "cell_type": "markdown",
   "metadata": {},
   "source": [
    "#### Plotting the graph of feature importance"
   ]
  },
  {
   "cell_type": "code",
   "execution_count": 24,
   "metadata": {},
   "outputs": [],
   "source": [
    "# Separate features and predicted value\n",
    "X = df_master3.drop([\"Renewal_Flag\"], axis=1)\n",
    "y = df_master3[\"Renewal_Flag\"]"
   ]
  },
  {
   "cell_type": "code",
   "execution_count": 25,
   "metadata": {},
   "outputs": [
    {
     "data": {
      "image/png": "[encoded data removed]",
      "text/plain": [
       "<Figure size 432x288 with 1 Axes>"
      ]
     },
     "metadata": {
      "needs_background": "light"
     },
     "output_type": "display_data"
    }
   ],
   "source": [
    "from sklearn.ensemble import ExtraTreesClassifier\n",
    "import matplotlib.pyplot as plt\n",
    "model = ExtraTreesClassifier()\n",
    "model.fit(X,y)\n",
    "# using inbuilt class feature_importances of tree based classifiers\n",
    "# print(model.feature_importances_) \n",
    "# plot graph of feature importances for better visualization\n",
    "feat_importances = pd.Series(model.feature_importances_, index=X.columns)\n",
    "feat_importances.nlargest(10).plot(kind='barh')\n",
    "plt.title(\"Feature importance\")\n",
    "plt.show()"
   ]
  },
  {
   "cell_type": "markdown",
   "metadata": {},
   "source": [
    "Using the built-in feature of ExtraTreesClassifier model to show the important features. As seen from the above graph the variable **Click Market Value** and **Total contract Value** are important to use as independent variables to predict the likelihood of renewal subscription."
   ]
  },
  {
   "cell_type": "markdown",
   "metadata": {},
   "source": [
    "### PART C:  Retention Analysis"
   ]
  },
  {
   "cell_type": "code",
   "execution_count": 26,
   "metadata": {},
   "outputs": [],
   "source": [
    "# Divide data into training and validation sets:\n",
    "# 70 % for training, 30 % for validation\n",
    "\n",
    "X_train, X_test, y_train, y_test = train_test_split(X, y, test_size = 0.3, random_state = 0)"
   ]
  },
  {
   "cell_type": "code",
   "execution_count": 27,
   "metadata": {},
   "outputs": [
    {
     "data": {
      "text/plain": [
       "((26429, 13), (26429,))"
      ]
     },
     "execution_count": 27,
     "metadata": {},
     "output_type": "execute_result"
    }
   ],
   "source": [
    "X_train.shape, y_train.shape"
   ]
  },
  {
   "cell_type": "code",
   "execution_count": 28,
   "metadata": {},
   "outputs": [
    {
     "data": {
      "text/plain": [
       "((11328, 13), (11328,))"
      ]
     },
     "execution_count": 28,
     "metadata": {},
     "output_type": "execute_result"
    }
   ],
   "source": [
    "X_test.shape, y_test.shape"
   ]
  },
  {
   "cell_type": "code",
   "execution_count": 29,
   "metadata": {},
   "outputs": [
    {
     "data": {
      "text/html": [
       "<div>\n",
       "<style scoped>\n",
       "    .dataframe tbody tr th:only-of-type {\n",
       "        vertical-align: middle;\n",
       "    }\n",
       "\n",
       "    .dataframe tbody tr th {\n",
       "        vertical-align: top;\n",
       "    }\n",
       "\n",
       "    .dataframe thead th {\n",
       "        text-align: right;\n",
       "    }\n",
       "</style>\n",
       "<table border=\"1\" class=\"dataframe\">\n",
       "  <thead>\n",
       "    <tr style=\"text-align: right;\">\n",
       "      <th></th>\n",
       "      <th>City_ID</th>\n",
       "      <th>Job_Slots</th>\n",
       "      <th>Total_Contract_Value</th>\n",
       "      <th>Applications</th>\n",
       "      <th>Apply_Start_Clicks</th>\n",
       "      <th>Click_Market_Value</th>\n",
       "      <th>Job_Listings</th>\n",
       "      <th>Start_year</th>\n",
       "      <th>Start_month</th>\n",
       "      <th>Start_day</th>\n",
       "      <th>End_year</th>\n",
       "      <th>End_month</th>\n",
       "      <th>End_day</th>\n",
       "    </tr>\n",
       "  </thead>\n",
       "  <tbody>\n",
       "    <tr>\n",
       "      <td>18075</td>\n",
       "      <td>6601</td>\n",
       "      <td>50</td>\n",
       "      <td>2995</td>\n",
       "      <td>310</td>\n",
       "      <td>355</td>\n",
       "      <td>4157.20</td>\n",
       "      <td>0</td>\n",
       "      <td>2017</td>\n",
       "      <td>4</td>\n",
       "      <td>20</td>\n",
       "      <td>2017</td>\n",
       "      <td>5</td>\n",
       "      <td>10</td>\n",
       "    </tr>\n",
       "    <tr>\n",
       "      <td>19001</td>\n",
       "      <td>6334</td>\n",
       "      <td>15</td>\n",
       "      <td>495</td>\n",
       "      <td>0</td>\n",
       "      <td>0</td>\n",
       "      <td>7.60</td>\n",
       "      <td>0</td>\n",
       "      <td>2017</td>\n",
       "      <td>10</td>\n",
       "      <td>11</td>\n",
       "      <td>2017</td>\n",
       "      <td>11</td>\n",
       "      <td>10</td>\n",
       "    </tr>\n",
       "    <tr>\n",
       "      <td>23267</td>\n",
       "      <td>5571</td>\n",
       "      <td>15</td>\n",
       "      <td>1245</td>\n",
       "      <td>0</td>\n",
       "      <td>10</td>\n",
       "      <td>1374.25</td>\n",
       "      <td>15</td>\n",
       "      <td>2017</td>\n",
       "      <td>11</td>\n",
       "      <td>10</td>\n",
       "      <td>2017</td>\n",
       "      <td>12</td>\n",
       "      <td>9</td>\n",
       "    </tr>\n",
       "    <tr>\n",
       "      <td>18205</td>\n",
       "      <td>1410</td>\n",
       "      <td>15</td>\n",
       "      <td>495</td>\n",
       "      <td>5</td>\n",
       "      <td>10</td>\n",
       "      <td>447.75</td>\n",
       "      <td>0</td>\n",
       "      <td>2017</td>\n",
       "      <td>1</td>\n",
       "      <td>16</td>\n",
       "      <td>2017</td>\n",
       "      <td>1</td>\n",
       "      <td>17</td>\n",
       "    </tr>\n",
       "    <tr>\n",
       "      <td>14628</td>\n",
       "      <td>6926</td>\n",
       "      <td>15</td>\n",
       "      <td>1495</td>\n",
       "      <td>5</td>\n",
       "      <td>10</td>\n",
       "      <td>1607.40</td>\n",
       "      <td>0</td>\n",
       "      <td>2018</td>\n",
       "      <td>1</td>\n",
       "      <td>14</td>\n",
       "      <td>2018</td>\n",
       "      <td>2</td>\n",
       "      <td>13</td>\n",
       "    </tr>\n",
       "  </tbody>\n",
       "</table>\n",
       "</div>"
      ],
      "text/plain": [
       "       City_ID  Job_Slots  Total_Contract_Value  Applications  \\\n",
       "18075     6601         50                  2995           310   \n",
       "19001     6334         15                   495             0   \n",
       "23267     5571         15                  1245             0   \n",
       "18205     1410         15                   495             5   \n",
       "14628     6926         15                  1495             5   \n",
       "\n",
       "       Apply_Start_Clicks  Click_Market_Value  Job_Listings  Start_year  \\\n",
       "18075                 355             4157.20             0        2017   \n",
       "19001                   0                7.60             0        2017   \n",
       "23267                  10             1374.25            15        2017   \n",
       "18205                  10              447.75             0        2017   \n",
       "14628                  10             1607.40             0        2018   \n",
       "\n",
       "       Start_month  Start_day  End_year  End_month  End_day  \n",
       "18075            4         20      2017          5       10  \n",
       "19001           10         11      2017         11       10  \n",
       "23267           11         10      2017         12        9  \n",
       "18205            1         16      2017          1       17  \n",
       "14628            1         14      2018          2       13  "
      ]
     },
     "execution_count": 29,
     "metadata": {},
     "output_type": "execute_result"
    }
   ],
   "source": [
    "X_train.head()"
   ]
  },
  {
   "cell_type": "code",
   "execution_count": 30,
   "metadata": {},
   "outputs": [
    {
     "name": "stdout",
     "output_type": "stream",
     "text": [
      "\n",
      "\n",
      "accuracy_score:0.85 % \n"
     ]
    }
   ],
   "source": [
    "rf = RandomForestClassifier(random_state = 22)\n",
    "\n",
    "# Preprocessing of training data, fit model:\n",
    "rf.fit(X_train, y_train)\n",
    "\n",
    "# Preprocessing of validation data, get predictions:\n",
    "preds = rf.predict(X_test)\n",
    "\n",
    "# Evaluate the model:\n",
    "score = accuracy_score(y_test, preds)\n",
    "print(\"\\n\")\n",
    "print(\"accuracy_score:{} % \".format(round(score,2)))"
   ]
  },
  {
   "cell_type": "markdown",
   "metadata": {},
   "source": [
    "Thus, model gives an acccuracy of 85% which seems pretty reasonable.\n",
    "The other factors which can be investigated is to include the other variables like \"State_Name\" by applying onehotencoding which might increase the accuracy of the model.\n",
    "I would recommend that in order to increase the renewals, I would modify the bidding algorithm to focus on adding more jobs applications which generate more click market value and ultimately geneate total dollar value of the apply start clicks delivered to clients. "
   ]
  },
  {
   "cell_type": "code",
   "execution_count": null,
   "metadata": {},
   "outputs": [],
   "source": []
  }
 ],
 "metadata": {
  "kernelspec": {
   "display_name": "Python 3",
   "language": "python",
   "name": "python3"
  },
  "language_info": {
   "codemirror_mode": {
    "name": "ipython",
    "version": 3
   },
   "file_extension": ".py",
   "mimetype": "text/x-python",
   "name": "python",
   "nbconvert_exporter": "python",
   "pygments_lexer": "ipython3",
   "version": "3.7.4"
  }
 },
 "nbformat": 4,
 "nbformat_minor": 2
}
